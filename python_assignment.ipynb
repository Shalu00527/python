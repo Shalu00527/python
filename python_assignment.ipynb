{
 "cells": [
  {
   "cell_type": "code",
   "execution_count": null,
   "id": "010f0a49",
   "metadata": {},
   "outputs": [],
   "source": [
    "Q1. In the below elements which of them are value or expression? eg:- values can be integer or string and expression will be mathematical \n",
    "operator."
   ]
  },
  {
   "cell_type": "markdown",
   "id": "ca9b9929",
   "metadata": {},
   "source": [
    "\"*\"      Expression (Operater)\n",
    "\"(hello) Value (String)\n",
    "\"-87.8\"  Value (Float)\n",
    "\"_\"      Expression (Operator)\n",
    "\"/\"      Expression (Operator)\n",
    "\"+\"      Expression (Operator)\n",
    "\"6\"      Value (Integer)"
   ]
  },
  {
   "cell_type": "code",
   "execution_count": null,
   "id": "c754515d",
   "metadata": {},
   "outputs": [],
   "source": [
    "Q2. What is the difference between string and variable?"
   ]
  },
  {
   "cell_type": "code",
   "execution_count": null,
   "id": "694510d3",
   "metadata": {},
   "outputs": [],
   "source": [
    "# String is a sequence of characters enclosed in quotes(\"hello,\"123\").\n",
    "# Variable is a name used to store data (like numbers,strings,etc.)in memory, for example, name=\"hello\"."
   ]
  },
  {
   "cell_type": "code",
   "execution_count": null,
   "id": "fe11754d",
   "metadata": {},
   "outputs": [],
   "source": [
    "Q3. Describe three different datatypes.\n",
    "\n",
    "1. Integer - Whole numbers (.eg.5,-10)\n",
    "2. Float - Decimal numbers (e.g.2.4,4.5)\n",
    "3. Character - Letters(e.g.Rahul,Satish)."
   ]
  },
  {
   "cell_type": "code",
   "execution_count": null,
   "id": "7b7eee3f",
   "metadata": {},
   "outputs": [],
   "source": [
    "Q4. What is an expression made up of? What do all expressions do?\n",
    "\n",
    "An expression in mathematical and programming is made up of symbols(such as numbers ,variables) and they do only one main thing \n",
    "i.e. they represent a value."
   ]
  },
  {
   "cell_type": "code",
   "execution_count": null,
   "id": "2c29a141",
   "metadata": {},
   "outputs": [],
   "source": [
    "Q5. This assignment statement like spam=10.What is the difference between a statement and an expression?\n",
    "\n",
    "Expression-An expression is something that produces a value.\n",
    "Statement-A statement is a complete instruction that does something (like creating a variable,controlling flow, etc).\n",
    "\n",
    "10-Expression\n",
    "spam=10-statement"
   ]
  },
  {
   "cell_type": "code",
   "execution_count": 1,
   "id": "838a7ea3",
   "metadata": {},
   "outputs": [
    {
     "name": "stdout",
     "output_type": "stream",
     "text": [
      "Object `contain` not found.\n"
     ]
    },
    {
     "data": {
      "text/plain": [
       "23"
      ]
     },
     "execution_count": 1,
     "metadata": {},
     "output_type": "execute_result"
    }
   ],
   "source": [
    "Q6. After running the following code,What does the variable bacon contain?\n",
    "\n",
    "bacon=22\n",
    "bacon+1"
   ]
  },
  {
   "cell_type": "code",
   "execution_count": 3,
   "id": "816360a1",
   "metadata": {},
   "outputs": [
    {
     "name": "stdout",
     "output_type": "stream",
     "text": [
      "Object `be` not found.\n"
     ]
    },
    {
     "data": {
      "text/plain": [
       "'spamspamspam'"
      ]
     },
     "execution_count": 3,
     "metadata": {},
     "output_type": "execute_result"
    }
   ],
   "source": [
    "Q7. What should the values of the following two terms be?\n",
    "\n",
    "'spam'+'spamspam'\n",
    "'spam'* 3"
   ]
  },
  {
   "cell_type": "code",
   "execution_count": 4,
   "id": "24ff6cf3",
   "metadata": {},
   "outputs": [
    {
     "ename": "SyntaxError",
     "evalue": "invalid syntax (2290977833.py, line 3)",
     "output_type": "error",
     "traceback": [
      "\u001b[1;36m  Cell \u001b[1;32mIn[4], line 3\u001b[1;36m\u001b[0m\n\u001b[1;33m    'eggs'-starts with a letter\u001b[0m\n\u001b[1;37m                  ^\u001b[0m\n\u001b[1;31mSyntaxError\u001b[0m\u001b[1;31m:\u001b[0m invalid syntax\n"
     ]
    }
   ],
   "source": [
    "Q8. Why is eggs a valid variable name while 100 is invalid?\n",
    "\n",
    "'eggs'-starts with a letter\n",
    "'100'-starts with a number."
   ]
  },
  {
   "cell_type": "code",
   "execution_count": null,
   "id": "43665520",
   "metadata": {},
   "outputs": [],
   "source": [
    "Q9. What three functions can be used to get the integer,floating-point number, or string version of a value?\n",
    "\n",
    " \n",
    " int() Integer \"42\"\n",
    " Output-42\n",
    " float() Float \"2.5\n",
    " Output-2.5\n",
    " str() String \"99\n",
    " Output-99\n",
    " "
   ]
  },
  {
   "cell_type": "code",
   "execution_count": 5,
   "id": "40726379",
   "metadata": {},
   "outputs": [
    {
     "ename": "IndentationError",
     "evalue": "unexpected indent (2635619633.py, line 3)",
     "output_type": "error",
     "traceback": [
      "\u001b[1;36m  Cell \u001b[1;32mIn[5], line 3\u001b[1;36m\u001b[0m\n\u001b[1;33m    'I have eaten' +99+'burritos'.\u001b[0m\n\u001b[1;37m    ^\u001b[0m\n\u001b[1;31mIndentationError\u001b[0m\u001b[1;31m:\u001b[0m unexpected indent\n"
     ]
    }
   ],
   "source": [
    "Q10. Why does this expression cause an error ? How can you fix it?\n",
    " \n",
    " 'I have eaten' +99+'burritos'."
   ]
  }
 ],
 "metadata": {
  "kernelspec": {
   "display_name": "base",
   "language": "python",
   "name": "python3"
  },
  "language_info": {
   "codemirror_mode": {
    "name": "ipython",
    "version": 3
   },
   "file_extension": ".py",
   "mimetype": "text/x-python",
   "name": "python",
   "nbconvert_exporter": "python",
   "pygments_lexer": "ipython3",
   "version": "3.13.5"
  }
 },
 "nbformat": 4,
 "nbformat_minor": 5
}
