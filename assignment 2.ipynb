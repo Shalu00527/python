{
 "cells": [
  {
   "cell_type": "markdown",
   "id": "5f78b674",
   "metadata": {},
   "source": [
    "# STRING METHODS WITH EXAMPLES"
   ]
  },
  {
   "cell_type": "markdown",
   "id": "f3575fc8",
   "metadata": {},
   "source": [
    "## 1)str.capitalize()"
   ]
  },
  {
   "cell_type": "markdown",
   "id": "43661b70",
   "metadata": {},
   "source": [
    "The capitalize() method returns a new string where:"
   ]
  },
  {
   "cell_type": "markdown",
   "id": "d640fbc9",
   "metadata": {},
   "source": [
    "The first character is uppercase."
   ]
  },
  {
   "cell_type": "markdown",
   "id": "8bf5e275",
   "metadata": {},
   "source": [
    "The rest of the string is uppercase."
   ]
  },
  {
   "cell_type": "markdown",
   "id": "2b8e85be",
   "metadata": {},
   "source": [
    "Example:-"
   ]
  },
  {
   "cell_type": "code",
   "execution_count": 1,
   "id": "cad46746",
   "metadata": {},
   "outputs": [
    {
     "name": "stdout",
     "output_type": "stream",
     "text": [
      "Hello world\n"
     ]
    }
   ],
   "source": [
    "string = \"hello world\"\n",
    "string = string.capitalize()\n",
    "print(string)"
   ]
  },
  {
   "cell_type": "markdown",
   "id": "e94d122c",
   "metadata": {},
   "source": [
    "# 2) str.casefold()"
   ]
  },
  {
   "cell_type": "markdown",
   "id": "828e947e",
   "metadata": {},
   "source": [
    "The casefold() method returns a case-insensitive evrsion of the string, optimized for aggresive lowercasing -more powerful than \n",
    "lower()."
   ]
  },
  {
   "cell_type": "markdown",
   "id": "a011c983",
   "metadata": {},
   "source": [
    "It's primarily used for case-sensitive comparisons,especially used for international characters."
   ]
  },
  {
   "cell_type": "markdown",
   "id": "92d00152",
   "metadata": {},
   "source": [
    "Example;-"
   ]
  },
  {
   "cell_type": "code",
   "execution_count": 2,
   "id": "c00969b4",
   "metadata": {},
   "outputs": [
    {
     "name": "stdout",
     "output_type": "stream",
     "text": [
      "False\n"
     ]
    }
   ],
   "source": [
    "s1 = \"StraBe\"\n",
    "s2 = \"strasse\"\n",
    "print(s1.casefold()==s2.casefold())"
   ]
  },
  {
   "cell_type": "markdown",
   "id": "0931ea45",
   "metadata": {},
   "source": [
    "# 3)str.centre(width,[fillchar])"
   ]
  },
  {
   "cell_type": "markdown",
   "id": "0d5835ac",
   "metadata": {},
   "source": [
    "This method centres a string in a field of a given width,padding it with the optional fillchar (default is a space' ')"
   ]
  },
  {
   "cell_type": "markdown",
   "id": "c24b89d5",
   "metadata": {},
   "source": [
    "Example:-"
   ]
  },
  {
   "cell_type": "code",
   "execution_count": 3,
   "id": "b13c18d1",
   "metadata": {},
   "outputs": [
    {
     "name": "stdout",
     "output_type": "stream",
     "text": [
      "@@@@python@@@@\n"
     ]
    }
   ],
   "source": [
    "string = \"python\"\n",
    "print(string.center(14,\"@\"))"
   ]
  },
  {
   "cell_type": "markdown",
   "id": "f6fdf62d",
   "metadata": {},
   "source": [
    "# 4) str.count(sub[,start[,end]])"
   ]
  },
  {
   "cell_type": "markdown",
   "id": "0e1d2636",
   "metadata": {},
   "source": [
    "This method returns the number of non-overlapping occurrences of a substring in a string."
   ]
  },
  {
   "cell_type": "markdown",
   "id": "68ca94bd",
   "metadata": {},
   "source": [
    "Example:-"
   ]
  },
  {
   "cell_type": "code",
   "execution_count": 1,
   "id": "b2f0cd08",
   "metadata": {},
   "outputs": [
    {
     "name": "stdout",
     "output_type": "stream",
     "text": [
      "2\n"
     ]
    }
   ],
   "source": [
    "string = \"Happy\"\n",
    "print(string.count(\"p\",2,5))"
   ]
  },
  {
   "cell_type": "markdown",
   "id": "26ea0a19",
   "metadata": {},
   "source": [
    "# 5)str.encode(encoding\"utf-8 , errors=\"strict\")"
   ]
  },
  {
   "cell_type": "markdown",
   "id": "ceb088b5",
   "metadata": {},
   "source": [
    "The str.encode() method encodes a string using a specified encoding format and returns the encoded bytes object. "
   ]
  },
  {
   "cell_type": "markdown",
   "id": "7a592e9e",
   "metadata": {},
   "source": [
    "Example:-"
   ]
  },
  {
   "cell_type": "code",
   "execution_count": 3,
   "id": "ffce7753",
   "metadata": {},
   "outputs": [
    {
     "name": "stdout",
     "output_type": "stream",
     "text": [
      "<built-in method encode of str object at 0x000002548E72F2D0>\n"
     ]
    }
   ],
   "source": [
    "string = \"cafe\"\n",
    "print(string.encode)"
   ]
  },
  {
   "cell_type": "markdown",
   "id": "8ae8e8d4",
   "metadata": {},
   "source": [
    "# 6) str.endswith(suffix[,start[,end]])"
   ]
  },
  {
   "cell_type": "markdown",
   "id": "c52b100f",
   "metadata": {},
   "source": [
    "This method returns true if the string ends with the specified suffix."
   ]
  },
  {
   "cell_type": "markdown",
   "id": "12d1fdf6",
   "metadata": {},
   "source": [
    "Example:-"
   ]
  },
  {
   "cell_type": "code",
   "execution_count": 5,
   "id": "b068d412",
   "metadata": {},
   "outputs": [
    {
     "name": "stdout",
     "output_type": "stream",
     "text": [
      "True\n",
      "False\n"
     ]
    }
   ],
   "source": [
    "string = \"hello\"\n",
    "print(string.endswith(\"lo\"))\n",
    "print(string.endswith(\"ol\"))"
   ]
  },
  {
   "cell_type": "markdown",
   "id": "2d45b67d",
   "metadata": {},
   "source": [
    "# 7) str.expandtabs(tabsize=8)"
   ]
  },
  {
   "cell_type": "markdown",
   "id": "00089680",
   "metadata": {},
   "source": [
    "This string method replaces tabs with spaces."
   ]
  },
  {
   "cell_type": "markdown",
   "id": "37ae1348",
   "metadata": {},
   "source": [
    "Example:-"
   ]
  },
  {
   "cell_type": "code",
   "execution_count": 7,
   "id": "92a8efd2",
   "metadata": {},
   "outputs": [
    {
     "name": "stdout",
     "output_type": "stream",
     "text": [
      "A       B       C\n"
     ]
    }
   ],
   "source": [
    "string = \"A\\tB\\tC\"\n",
    "print(string.expandtabs(tabsize=8))"
   ]
  },
  {
   "cell_type": "markdown",
   "id": "ab96184f",
   "metadata": {},
   "source": [
    "# 8) str.find(sub[,start[,end]])"
   ]
  },
  {
   "cell_type": "markdown",
   "id": "b329649d",
   "metadata": {},
   "source": [
    "This string method is used to find the lowest index of the substring in a string. If the substring or index is not found, print -1."
   ]
  },
  {
   "cell_type": "markdown",
   "id": "95f90e7f",
   "metadata": {},
   "source": [
    "Example:-"
   ]
  },
  {
   "cell_type": "code",
   "execution_count": 10,
   "id": "89ddafc8",
   "metadata": {},
   "outputs": [
    {
     "name": "stdout",
     "output_type": "stream",
     "text": [
      "-1\n"
     ]
    }
   ],
   "source": [
    "string = \"python\"\n",
    "print(string.find(\"python\",1,6))"
   ]
  },
  {
   "cell_type": "markdown",
   "id": "78289c1e",
   "metadata": {},
   "source": [
    "# 9) str.format(*args,**kwargs)"
   ]
  },
  {
   "cell_type": "markdown",
   "id": "c0f38672",
   "metadata": {},
   "source": [
    "This method format the given string using specified arguement."
   ]
  },
  {
   "cell_type": "markdown",
   "id": "aa3c2986",
   "metadata": {},
   "source": [
    "Example:-"
   ]
  },
  {
   "cell_type": "code",
   "execution_count": 2,
   "id": "d9a8854b",
   "metadata": {},
   "outputs": [
    {
     "name": "stdout",
     "output_type": "stream",
     "text": [
      "My name is Urvashi and I live in Aligarh\n"
     ]
    }
   ],
   "source": [
    "name = \"Urvashi\"\n",
    "city = \"Aligarh\"\n",
    "formatted_string = \"My name is {} and I live in {}\".format(name,city)\n",
    "print(formatted_string)"
   ]
  },
  {
   "cell_type": "markdown",
   "id": "b42a3b45",
   "metadata": {},
   "source": [
    "# 10) str.format_map(mapping)"
   ]
  },
  {
   "cell_type": "markdown",
   "id": "ab9080c2",
   "metadata": {},
   "source": [
    "Formats string using a mapping."
   ]
  },
  {
   "cell_type": "markdown",
   "id": "c6d6bd23",
   "metadata": {},
   "source": [
    "Example:-"
   ]
  },
  {
   "cell_type": "code",
   "execution_count": 1,
   "id": "96ba25e1",
   "metadata": {},
   "outputs": [
    {
     "name": "stdout",
     "output_type": "stream",
     "text": [
      "My name is rahul and I am 30 years old\n"
     ]
    }
   ],
   "source": [
    "name = \"rahul\"\n",
    "age = 30\n",
    "formatted_string = \"My name is {} and I am {} years old\".format(name,age)\n",
    "print(formatted_string)"
   ]
  },
  {
   "cell_type": "markdown",
   "id": "47132145",
   "metadata": {},
   "source": [
    "# 11) str.index(sub[,start[,end]])"
   ]
  },
  {
   "cell_type": "markdown",
   "id": "35fefacb",
   "metadata": {},
   "source": [
    "Like find() but raises error if not found."
   ]
  },
  {
   "cell_type": "markdown",
   "id": "860caaea",
   "metadata": {},
   "source": [
    "Example:-"
   ]
  },
  {
   "cell_type": "code",
   "execution_count": 3,
   "id": "1e2b416e",
   "metadata": {},
   "outputs": [
    {
     "name": "stdout",
     "output_type": "stream",
     "text": [
      "9\n"
     ]
    }
   ],
   "source": [
    "string = \"python programming\"\n",
    "index = string.index(\"o\",5,15)\n",
    "print(index)"
   ]
  },
  {
   "cell_type": "markdown",
   "id": "0da551c2",
   "metadata": {},
   "source": [
    "# 12) str.isalnum()"
   ]
  },
  {
   "cell_type": "markdown",
   "id": "c7794117",
   "metadata": {},
   "source": [
    "Returns true if all chracters are alphanumeric."
   ]
  },
  {
   "cell_type": "markdown",
   "id": "3015f81a",
   "metadata": {},
   "source": [
    "Example:-"
   ]
  },
  {
   "cell_type": "code",
   "execution_count": 4,
   "id": "d2c8b588",
   "metadata": {},
   "outputs": [
    {
     "name": "stdout",
     "output_type": "stream",
     "text": [
      "True\n"
     ]
    }
   ],
   "source": [
    "string = \"python123\"\n",
    "print(string.isalnum())"
   ]
  },
  {
   "cell_type": "markdown",
   "id": "ac71ca90",
   "metadata": {},
   "source": [
    "# 13) str.isalpha()"
   ]
  },
  {
   "cell_type": "markdown",
   "id": "c6d48c2e",
   "metadata": {},
   "source": [
    "Returns true if all the characters are alphabetic."
   ]
  },
  {
   "cell_type": "markdown",
   "id": "ec0010ca",
   "metadata": {},
   "source": [
    "Example:-"
   ]
  },
  {
   "cell_type": "code",
   "execution_count": 6,
   "id": "0ba2a70d",
   "metadata": {},
   "outputs": [
    {
     "name": "stdout",
     "output_type": "stream",
     "text": [
      "True\n"
     ]
    }
   ],
   "source": [
    "string = \"python\"\n",
    "print(string.isalpha())"
   ]
  },
  {
   "cell_type": "markdown",
   "id": "661fca5d",
   "metadata": {},
   "source": [
    "# 14) str.isascii()"
   ]
  },
  {
   "cell_type": "markdown",
   "id": "312c30ae",
   "metadata": {},
   "source": [
    "Returns true if all the characters are ASCII."
   ]
  },
  {
   "cell_type": "markdown",
   "id": "31490a24",
   "metadata": {},
   "source": [
    "Example:-"
   ]
  },
  {
   "cell_type": "code",
   "execution_count": 7,
   "id": "3519ef04",
   "metadata": {},
   "outputs": [
    {
     "name": "stdout",
     "output_type": "stream",
     "text": [
      "True\n"
     ]
    }
   ],
   "source": [
    "string = \"hello123\"\n",
    "print(string.isascii())"
   ]
  },
  {
   "cell_type": "markdown",
   "id": "e235c4fd",
   "metadata": {},
   "source": [
    "# 15) str.isdecimal()"
   ]
  },
  {
   "cell_type": "markdown",
   "id": "7a75c595",
   "metadata": {},
   "source": [
    "Returns true if all the characters are decimal characters."
   ]
  },
  {
   "cell_type": "markdown",
   "id": "95a129ae",
   "metadata": {},
   "source": [
    "Example:-"
   ]
  },
  {
   "cell_type": "code",
   "execution_count": 8,
   "id": "7c2038fd",
   "metadata": {},
   "outputs": [
    {
     "name": "stdout",
     "output_type": "stream",
     "text": [
      "True\n"
     ]
    }
   ],
   "source": [
    "string = \"123456\"\n",
    "print(string.isdecimal())"
   ]
  },
  {
   "cell_type": "markdown",
   "id": "27803328",
   "metadata": {},
   "source": [
    "# 16) str.isdigit()"
   ]
  },
  {
   "cell_type": "markdown",
   "id": "56dea1e5",
   "metadata": {},
   "source": [
    "Returns true if all the characters are digits."
   ]
  },
  {
   "cell_type": "markdown",
   "id": "5b600d08",
   "metadata": {},
   "source": [
    "Example:-"
   ]
  },
  {
   "cell_type": "code",
   "execution_count": 9,
   "id": "353b3a08",
   "metadata": {},
   "outputs": [
    {
     "name": "stdout",
     "output_type": "stream",
     "text": [
      "True\n"
     ]
    }
   ],
   "source": [
    "string = \"123456\"\n",
    "print(string.isdigit())"
   ]
  },
  {
   "cell_type": "markdown",
   "id": "bc79fb7b",
   "metadata": {},
   "source": [
    "# 17) str.isidentifier()"
   ]
  },
  {
   "cell_type": "markdown",
   "id": "5f463c9a",
   "metadata": {},
   "source": [
    "Returns true if string is a valid identifier."
   ]
  },
  {
   "cell_type": "markdown",
   "id": "af4f767e",
   "metadata": {},
   "source": [
    "Example:-"
   ]
  },
  {
   "cell_type": "code",
   "execution_count": 10,
   "id": "aa8f1024",
   "metadata": {},
   "outputs": [
    {
     "name": "stdout",
     "output_type": "stream",
     "text": [
      "True\n"
     ]
    }
   ],
   "source": [
    "string = \"my_variable\"\n",
    "print(string.isidentifier())"
   ]
  },
  {
   "cell_type": "markdown",
   "id": "4c99b216",
   "metadata": {},
   "source": [
    "# 18) str.islower()"
   ]
  },
  {
   "cell_type": "markdown",
   "id": "50833021",
   "metadata": {},
   "source": [
    "Returns true if all the characters are lowercase."
   ]
  },
  {
   "cell_type": "markdown",
   "id": "e24ea882",
   "metadata": {},
   "source": [
    "Example:-"
   ]
  },
  {
   "cell_type": "code",
   "execution_count": 11,
   "id": "573ccdd4",
   "metadata": {},
   "outputs": [
    {
     "name": "stdout",
     "output_type": "stream",
     "text": [
      "True\n"
     ]
    }
   ],
   "source": [
    "string = \"python\"\n",
    "print(string.islower())"
   ]
  },
  {
   "cell_type": "markdown",
   "id": "9a3095f7",
   "metadata": {},
   "source": [
    "# 19) str.isnumeric()"
   ]
  },
  {
   "cell_type": "markdown",
   "id": "8ee41346",
   "metadata": {},
   "source": [
    "Returns true if all the characters are numeric."
   ]
  },
  {
   "cell_type": "markdown",
   "id": "ddf9287d",
   "metadata": {},
   "source": [
    "Example:-"
   ]
  },
  {
   "cell_type": "code",
   "execution_count": 12,
   "id": "c9cd323b",
   "metadata": {},
   "outputs": [
    {
     "name": "stdout",
     "output_type": "stream",
     "text": [
      "True\n"
     ]
    }
   ],
   "source": [
    "string = \"357365\"\n",
    "print(string.isnumeric())"
   ]
  },
  {
   "cell_type": "markdown",
   "id": "df9b4107",
   "metadata": {},
   "source": [
    "# 20) str.isprintable()"
   ]
  },
  {
   "cell_type": "markdown",
   "id": "4cb242d3",
   "metadata": {},
   "source": [
    "Returns true if all the characters are printable."
   ]
  },
  {
   "cell_type": "markdown",
   "id": "f3419e2a",
   "metadata": {},
   "source": [
    "Example:-"
   ]
  },
  {
   "cell_type": "code",
   "execution_count": 13,
   "id": "08ed9385",
   "metadata": {},
   "outputs": [
    {
     "name": "stdout",
     "output_type": "stream",
     "text": [
      "True\n"
     ]
    }
   ],
   "source": [
    "string = \"Hello123!\"\n",
    "print(string.isprintable())"
   ]
  },
  {
   "cell_type": "markdown",
   "id": "c7090a42",
   "metadata": {},
   "source": [
    "# 21) str.isspace()"
   ]
  },
  {
   "cell_type": "markdown",
   "id": "a9d7a335",
   "metadata": {},
   "source": [
    "Returns true if all the charcters are whitespace."
   ]
  },
  {
   "cell_type": "markdown",
   "id": "0394cbce",
   "metadata": {},
   "source": [
    "Example:-"
   ]
  },
  {
   "cell_type": "code",
   "execution_count": 15,
   "id": "8d1f597d",
   "metadata": {},
   "outputs": [
    {
     "name": "stdout",
     "output_type": "stream",
     "text": [
      "True\n"
     ]
    }
   ],
   "source": [
    "string = \"\\n\"\n",
    "print(string.isspace())"
   ]
  },
  {
   "cell_type": "markdown",
   "id": "0603e7c8",
   "metadata": {},
   "source": [
    "# 22) str.istitle()"
   ]
  },
  {
   "cell_type": "markdown",
   "id": "2333f0c8",
   "metadata": {},
   "source": [
    "Returns true if the string is titlecased."
   ]
  },
  {
   "cell_type": "markdown",
   "id": "2e6a1e78",
   "metadata": {},
   "source": [
    "Example:-"
   ]
  },
  {
   "cell_type": "code",
   "execution_count": 16,
   "id": "c6d3e46c",
   "metadata": {},
   "outputs": [
    {
     "name": "stdout",
     "output_type": "stream",
     "text": [
      "True\n"
     ]
    }
   ],
   "source": [
    "string = \"This Is A Titlecase\"\n",
    "print(string.istitle())"
   ]
  },
  {
   "cell_type": "markdown",
   "id": "9a8b582b",
   "metadata": {},
   "source": [
    "# 23) str.isupper()"
   ]
  },
  {
   "cell_type": "markdown",
   "id": "f10e2d0f",
   "metadata": {},
   "source": [
    "Returns true if all the characters are uppercase."
   ]
  },
  {
   "cell_type": "markdown",
   "id": "7b5ceadb",
   "metadata": {},
   "source": [
    "Example:-"
   ]
  },
  {
   "cell_type": "code",
   "execution_count": 17,
   "id": "658cfdf4",
   "metadata": {},
   "outputs": [
    {
     "name": "stdout",
     "output_type": "stream",
     "text": [
      "True\n"
     ]
    }
   ],
   "source": [
    "string = \"HELLO WORLD\"\n",
    "print(string.isupper())"
   ]
  },
  {
   "cell_type": "markdown",
   "id": "38706189",
   "metadata": {},
   "source": [
    "# 24) str.join(iterable)"
   ]
  },
  {
   "cell_type": "markdown",
   "id": "9a1cb1ec",
   "metadata": {},
   "source": [
    "Join elements of an iterable with the string as a seperator."
   ]
  },
  {
   "cell_type": "markdown",
   "id": "1a15cae4",
   "metadata": {},
   "source": [
    "Example:-"
   ]
  },
  {
   "cell_type": "code",
   "execution_count": 19,
   "id": "341599fb",
   "metadata": {},
   "outputs": [
    {
     "name": "stdout",
     "output_type": "stream",
     "text": [
      "python is fun\n"
     ]
    }
   ],
   "source": [
    "string = [\"python\",\"is\",\"fun\"]\n",
    "result = \" \".join(string)\n",
    "print(result)"
   ]
  },
  {
   "cell_type": "markdown",
   "id": "86cc0142",
   "metadata": {},
   "source": [
    "# 25) str.ljust(width[,fillchar])"
   ]
  },
  {
   "cell_type": "markdown",
   "id": "908b72e3",
   "metadata": {},
   "source": [
    "Left-justifies the string."
   ]
  },
  {
   "cell_type": "markdown",
   "id": "1c3ab634",
   "metadata": {},
   "source": [
    "Example:-"
   ]
  },
  {
   "cell_type": "code",
   "execution_count": 20,
   "id": "c09ed441",
   "metadata": {},
   "outputs": [
    {
     "name": "stdout",
     "output_type": "stream",
     "text": [
      "hii       \n"
     ]
    }
   ],
   "source": [
    "string = \"hii\"\n",
    "print(string.ljust(10))"
   ]
  },
  {
   "cell_type": "markdown",
   "id": "0dd4f41a",
   "metadata": {},
   "source": [
    "# 26) str.lower()"
   ]
  },
  {
   "cell_type": "markdown",
   "id": "f4b873ef",
   "metadata": {},
   "source": [
    "Converts to lowercase."
   ]
  },
  {
   "cell_type": "markdown",
   "id": "de12ab4c",
   "metadata": {},
   "source": [
    "Example:-"
   ]
  },
  {
   "cell_type": "code",
   "execution_count": 21,
   "id": "ed87852b",
   "metadata": {},
   "outputs": [
    {
     "name": "stdout",
     "output_type": "stream",
     "text": [
      "hello rahul \n"
     ]
    }
   ],
   "source": [
    "string = \"HELLO rahul \"\n",
    "print(string.lower())"
   ]
  },
  {
   "cell_type": "markdown",
   "id": "aa9302aa",
   "metadata": {},
   "source": [
    "# 27) str.lstrip([chars])"
   ]
  },
  {
   "cell_type": "markdown",
   "id": "2c218fbe",
   "metadata": {},
   "source": [
    "Removes leading characters( default: whitespace)."
   ]
  },
  {
   "cell_type": "markdown",
   "id": "001ccc21",
   "metadata": {},
   "source": [
    "Example:-"
   ]
  },
  {
   "cell_type": "code",
   "execution_count": 22,
   "id": "be3e2882",
   "metadata": {},
   "outputs": [
    {
     "name": "stdout",
     "output_type": "stream",
     "text": [
      "Hello\n"
     ]
    }
   ],
   "source": [
    "string = \"    Hello\"\n",
    "print(string.lstrip())"
   ]
  },
  {
   "cell_type": "markdown",
   "id": "b53f8013",
   "metadata": {},
   "source": [
    "# 28) str.maketrans(x,y=None,z=None)"
   ]
  },
  {
   "cell_type": "markdown",
   "id": "a53ceadb",
   "metadata": {},
   "source": [
    "Returns a translation table."
   ]
  },
  {
   "cell_type": "markdown",
   "id": "aec31759",
   "metadata": {},
   "source": [
    "Example:-"
   ]
  },
  {
   "cell_type": "code",
   "execution_count": 23,
   "id": "be7e9cb5",
   "metadata": {},
   "outputs": [
    {
     "name": "stdout",
     "output_type": "stream",
     "text": [
      "123123\n"
     ]
    }
   ],
   "source": [
    "table = str.maketrans(\"abc\",\"123\")\n",
    "text = \"abcabc\"\n",
    "print(text.translate(table))"
   ]
  },
  {
   "cell_type": "markdown",
   "id": "765c3921",
   "metadata": {},
   "source": [
    "# 29) str.partition(sep)"
   ]
  },
  {
   "cell_type": "markdown",
   "id": "8457ac73",
   "metadata": {},
   "source": [
    "Splits the string at the first occurence of sep."
   ]
  },
  {
   "cell_type": "markdown",
   "id": "c719a038",
   "metadata": {},
   "source": [
    "Example:-"
   ]
  },
  {
   "cell_type": "code",
   "execution_count": 24,
   "id": "95d5cf9f",
   "metadata": {},
   "outputs": [
    {
     "name": "stdout",
     "output_type": "stream",
     "text": [
      "('Hello', '=', 'World')\n"
     ]
    }
   ],
   "source": [
    "string = \"Hello=World\"\n",
    "result = string.partition(\"=\")\n",
    "print(result)"
   ]
  },
  {
   "cell_type": "markdown",
   "id": "02dbe1db",
   "metadata": {},
   "source": [
    "# 30) str.removeprefix(prefix)"
   ]
  },
  {
   "cell_type": "markdown",
   "id": "56e010f9",
   "metadata": {},
   "source": [
    "Remove the specified prefix if present."
   ]
  },
  {
   "cell_type": "markdown",
   "id": "b6e7e3aa",
   "metadata": {},
   "source": [
    "Example:-"
   ]
  },
  {
   "cell_type": "code",
   "execution_count": 27,
   "id": "037fddb3",
   "metadata": {},
   "outputs": [
    {
     "name": "stdout",
     "output_type": "stream",
     "text": [
      "happy\n"
     ]
    }
   ],
   "source": [
    "string = \"unhappy\"\n",
    "print(string.removeprefix(\"un\"))"
   ]
  },
  {
   "cell_type": "markdown",
   "id": "dbb63807",
   "metadata": {},
   "source": [
    "# 31) str.removesuffix(suffix)"
   ]
  },
  {
   "cell_type": "markdown",
   "id": "53b936ae",
   "metadata": {},
   "source": [
    "Remove the specified suffix if present."
   ]
  },
  {
   "cell_type": "markdown",
   "id": "155dcfa1",
   "metadata": {},
   "source": [
    "Example:-"
   ]
  },
  {
   "cell_type": "code",
   "execution_count": 28,
   "id": "234fbc72",
   "metadata": {},
   "outputs": [
    {
     "name": "stdout",
     "output_type": "stream",
     "text": [
      "manage\n"
     ]
    }
   ],
   "source": [
    "string = \"management\"\n",
    "print(string.removesuffix(\"ment\"))"
   ]
  },
  {
   "cell_type": "markdown",
   "id": "28172470",
   "metadata": {},
   "source": [
    "# 32) str.replace(old,new[,count])"
   ]
  },
  {
   "cell_type": "markdown",
   "id": "f07dc0f0",
   "metadata": {},
   "source": [
    "Returns a copy with all occurences of a substring replaced."
   ]
  },
  {
   "cell_type": "markdown",
   "id": "aab5e398",
   "metadata": {},
   "source": [
    "Example:-"
   ]
  },
  {
   "cell_type": "code",
   "execution_count": 29,
   "id": "b88e7217",
   "metadata": {},
   "outputs": [
    {
     "name": "stdout",
     "output_type": "stream",
     "text": [
      "I like oranges\n"
     ]
    }
   ],
   "source": [
    "string = \"I like apples\"\n",
    "new_string = string.replace(\"apples\",\"oranges\")\n",
    "print(new_string)"
   ]
  },
  {
   "cell_type": "markdown",
   "id": "5d02834f",
   "metadata": {},
   "source": [
    "# 33) str.rfind(sub[,start[,end]])"
   ]
  },
  {
   "cell_type": "markdown",
   "id": "279d7ffe",
   "metadata": {},
   "source": [
    "Returns the highest index of the substring."
   ]
  },
  {
   "cell_type": "markdown",
   "id": "e6d51155",
   "metadata": {},
   "source": [
    "Example:-"
   ]
  },
  {
   "cell_type": "code",
   "execution_count": 30,
   "id": "3766e338",
   "metadata": {},
   "outputs": [
    {
     "name": "stdout",
     "output_type": "stream",
     "text": [
      "12\n"
     ]
    }
   ],
   "source": [
    "string = \"hello world,hello universe\"\n",
    "index = string.rfind(\"hello\")\n",
    "print(index)"
   ]
  },
  {
   "cell_type": "markdown",
   "id": "77ee45c6",
   "metadata": {},
   "source": [
    "# 34) str.rindex(sub[,start[,end]])"
   ]
  },
  {
   "cell_type": "markdown",
   "id": "ef752275",
   "metadata": {},
   "source": [
    "Like rfind() but raises value error if not found."
   ]
  },
  {
   "cell_type": "markdown",
   "id": "73dfb6e2",
   "metadata": {},
   "source": [
    "Example:-"
   ]
  },
  {
   "cell_type": "code",
   "execution_count": 31,
   "id": "63b39b2b",
   "metadata": {},
   "outputs": [
    {
     "name": "stdout",
     "output_type": "stream",
     "text": [
      "14\n"
     ]
    }
   ],
   "source": [
    "string = \"hello world , hello universe\"\n",
    "index = string.rindex(\"hello\")\n",
    "print(index)"
   ]
  },
  {
   "cell_type": "markdown",
   "id": "c0d93e30",
   "metadata": {},
   "source": [
    "# 35) str.rjust(width[,fillchar])\n"
   ]
  },
  {
   "cell_type": "markdown",
   "id": "cbcab091",
   "metadata": {},
   "source": [
    "Right-justifies the string."
   ]
  },
  {
   "cell_type": "markdown",
   "id": "e8242ffc",
   "metadata": {},
   "source": [
    "Example:-"
   ]
  },
  {
   "cell_type": "code",
   "execution_count": 32,
   "id": "a43b6f0d",
   "metadata": {},
   "outputs": [
    {
     "name": "stdout",
     "output_type": "stream",
     "text": [
      "   43\n"
     ]
    }
   ],
   "source": [
    "string = \"43\"\n",
    "padded = string.rjust(5)\n",
    "print(padded)"
   ]
  },
  {
   "cell_type": "markdown",
   "id": "3a9acf65",
   "metadata": {},
   "source": [
    "# 36) str.rsplit(sep=None,maxsplit=-1)"
   ]
  },
  {
   "cell_type": "markdown",
   "id": "0f41928a",
   "metadata": {},
   "source": [
    "Splits the string from the right."
   ]
  },
  {
   "cell_type": "markdown",
   "id": "f11191ca",
   "metadata": {},
   "source": [
    "Example:-"
   ]
  },
  {
   "cell_type": "code",
   "execution_count": 33,
   "id": "7d4e682c",
   "metadata": {},
   "outputs": [
    {
     "name": "stdout",
     "output_type": "stream",
     "text": [
      "['one,two,three']\n"
     ]
    }
   ],
   "source": [
    "string = \"one,two,three\"\n",
    "parts = string.rsplit()\n",
    "print(parts)"
   ]
  },
  {
   "cell_type": "markdown",
   "id": "7231a829",
   "metadata": {},
   "source": [
    "# 37) str.rstrip([chars])"
   ]
  },
  {
   "cell_type": "markdown",
   "id": "ec0f85b9",
   "metadata": {},
   "source": [
    "Removes trailing characters (default:whitespace)."
   ]
  },
  {
   "cell_type": "markdown",
   "id": "d3554a93",
   "metadata": {},
   "source": [
    "Example:-"
   ]
  },
  {
   "cell_type": "code",
   "execution_count": 35,
   "id": "910939fa",
   "metadata": {},
   "outputs": [
    {
     "name": "stdout",
     "output_type": "stream",
     "text": [
      "'hello'\n"
     ]
    }
   ],
   "source": [
    "string = \"hello    \"\n",
    "cleaned = string.rstrip()\n",
    "print(repr(cleaned))\n"
   ]
  },
  {
   "cell_type": "markdown",
   "id": "2f0c81be",
   "metadata": {},
   "source": [
    "# 38) str.split(sep=None,maxsplit=-1)"
   ]
  },
  {
   "cell_type": "markdown",
   "id": "2963c791",
   "metadata": {},
   "source": [
    "Splits the string."
   ]
  },
  {
   "cell_type": "markdown",
   "id": "98313dca",
   "metadata": {},
   "source": [
    "Example:-"
   ]
  },
  {
   "cell_type": "code",
   "execution_count": 36,
   "id": "c6e22b96",
   "metadata": {},
   "outputs": [
    {
     "name": "stdout",
     "output_type": "stream",
     "text": [
      "['hello', 'python', 'world']\n"
     ]
    }
   ],
   "source": [
    "string = \"hello python world\"\n",
    "parts = string.split()\n",
    "print(parts)"
   ]
  },
  {
   "cell_type": "markdown",
   "id": "2953e73a",
   "metadata": {},
   "source": [
    "# 39) str.splitlines([keepends])"
   ]
  },
  {
   "cell_type": "markdown",
   "id": "3eaca323",
   "metadata": {},
   "source": [
    "Splits at lines break."
   ]
  },
  {
   "cell_type": "markdown",
   "id": "56f80eae",
   "metadata": {},
   "source": [
    "Example:-"
   ]
  },
  {
   "cell_type": "code",
   "execution_count": 41,
   "id": "9291d45f",
   "metadata": {},
   "outputs": [
    {
     "name": "stdout",
     "output_type": "stream",
     "text": [
      "['line1', 'line2', 'line3']\n"
     ]
    }
   ],
   "source": [
    "string = \"line1\\nline2\\r\\nline3\"\n",
    "lines = string.splitlines()\n",
    "print(lines)"
   ]
  },
  {
   "cell_type": "markdown",
   "id": "fb55fbfe",
   "metadata": {},
   "source": [
    "# 40) str.startswith(prefix[,start[,end]])"
   ]
  },
  {
   "cell_type": "markdown",
   "id": "aaf0bf88",
   "metadata": {},
   "source": [
    "Returns true if the string starts with the prefix."
   ]
  },
  {
   "cell_type": "markdown",
   "id": "8fc497bc",
   "metadata": {},
   "source": [
    "Example:-"
   ]
  },
  {
   "cell_type": "code",
   "execution_count": 42,
   "id": "6864ab0e",
   "metadata": {},
   "outputs": [
    {
     "name": "stdout",
     "output_type": "stream",
     "text": [
      "True\n"
     ]
    }
   ],
   "source": [
    "string = \"python programming\"\n",
    "print(string.startswith(\"program\",7))"
   ]
  },
  {
   "cell_type": "markdown",
   "id": "0a55bfbd",
   "metadata": {},
   "source": [
    "# 41) str.strip([chars])"
   ]
  },
  {
   "cell_type": "markdown",
   "id": "eb074914",
   "metadata": {},
   "source": [
    "Removes leading and trailing characters."
   ]
  },
  {
   "cell_type": "markdown",
   "id": "b608a0ee",
   "metadata": {},
   "source": [
    "Example:-"
   ]
  },
  {
   "cell_type": "code",
   "execution_count": 43,
   "id": "4e38d655",
   "metadata": {},
   "outputs": [
    {
     "name": "stdout",
     "output_type": "stream",
     "text": [
      "'hello'\n"
     ]
    }
   ],
   "source": [
    "string = \"-----hello-----\"\n",
    "cleaned = string.strip(\"-\")\n",
    "print(repr(cleaned))"
   ]
  },
  {
   "cell_type": "markdown",
   "id": "0f5a5349",
   "metadata": {},
   "source": [
    "# 42) str.swapcase()"
   ]
  },
  {
   "cell_type": "markdown",
   "id": "bad823b9",
   "metadata": {},
   "source": [
    "Swaps case of all characters."
   ]
  },
  {
   "cell_type": "markdown",
   "id": "ff561536",
   "metadata": {},
   "source": [
    "Example:-"
   ]
  },
  {
   "cell_type": "code",
   "execution_count": 44,
   "id": "7005e360",
   "metadata": {},
   "outputs": [
    {
     "name": "stdout",
     "output_type": "stream",
     "text": [
      "hELLO wORLD\n"
     ]
    }
   ],
   "source": [
    "string = \"Hello World\"\n",
    "swapped = string.swapcase()\n",
    "print(swapped)"
   ]
  },
  {
   "cell_type": "markdown",
   "id": "63719dc7",
   "metadata": {},
   "source": [
    "# 43) str.title()"
   ]
  },
  {
   "cell_type": "markdown",
   "id": "b3ba8045",
   "metadata": {},
   "source": [
    "Returns a titlecased version of the string."
   ]
  },
  {
   "cell_type": "markdown",
   "id": "e45f042c",
   "metadata": {},
   "source": [
    "Example:-"
   ]
  },
  {
   "cell_type": "code",
   "execution_count": 46,
   "id": "d9d9eca4",
   "metadata": {},
   "outputs": [
    {
     "name": "stdout",
     "output_type": "stream",
     "text": [
      "Hello World\n"
     ]
    }
   ],
   "source": [
    "string = \"hello world\"\n",
    "print(string.title())"
   ]
  },
  {
   "cell_type": "markdown",
   "id": "197b499b",
   "metadata": {},
   "source": [
    "# 44) str.translate(table)"
   ]
  },
  {
   "cell_type": "markdown",
   "id": "c53e538a",
   "metadata": {},
   "source": [
    "Returns a translated string."
   ]
  },
  {
   "cell_type": "markdown",
   "id": "d3d2e563",
   "metadata": {},
   "source": [
    "Example:-"
   ]
  },
  {
   "cell_type": "code",
   "execution_count": 47,
   "id": "7d76e3ce",
   "metadata": {},
   "outputs": [
    {
     "name": "stdout",
     "output_type": "stream",
     "text": [
      "h2ll4 w4rld\n"
     ]
    }
   ],
   "source": [
    "table = str.maketrans(\"aeiou\", \"12345\")\n",
    "string = \"hello world\"\n",
    "print(string.translate(table))"
   ]
  },
  {
   "cell_type": "markdown",
   "id": "58a226d9",
   "metadata": {},
   "source": [
    "# 45) str.upper()"
   ]
  },
  {
   "cell_type": "markdown",
   "id": "eb5947f0",
   "metadata": {},
   "source": [
    "Converts all characters to uppercase."
   ]
  },
  {
   "cell_type": "markdown",
   "id": "f34f9fe6",
   "metadata": {},
   "source": [
    "Example:-"
   ]
  },
  {
   "cell_type": "code",
   "execution_count": 48,
   "id": "de4ddd0b",
   "metadata": {},
   "outputs": [
    {
     "name": "stdout",
     "output_type": "stream",
     "text": [
      "HELLO PYTHON PROGRAMMING\n"
     ]
    }
   ],
   "source": [
    "string = \"hello python programming\"\n",
    "print(string.upper())"
   ]
  },
  {
   "cell_type": "markdown",
   "id": "12c30d5a",
   "metadata": {},
   "source": [
    "# 46) str.zfillwidth()"
   ]
  },
  {
   "cell_type": "markdown",
   "id": "885e629d",
   "metadata": {},
   "source": [
    "Pads the string on the left with zeroes."
   ]
  },
  {
   "cell_type": "markdown",
   "id": "75944275",
   "metadata": {},
   "source": [
    "Example:-"
   ]
  },
  {
   "cell_type": "code",
   "execution_count": 49,
   "id": "25ec0fb2",
   "metadata": {},
   "outputs": [
    {
     "name": "stdout",
     "output_type": "stream",
     "text": [
      "00043\n"
     ]
    }
   ],
   "source": [
    "string = \"43\"\n",
    "padded = string.zfill(5)\n",
    "print(padded)"
   ]
  }
 ],
 "metadata": {
  "kernelspec": {
   "display_name": "Python 3",
   "language": "python",
   "name": "python3"
  },
  "language_info": {
   "codemirror_mode": {
    "name": "ipython",
    "version": 3
   },
   "file_extension": ".py",
   "mimetype": "text/x-python",
   "name": "python",
   "nbconvert_exporter": "python",
   "pygments_lexer": "ipython3",
   "version": "3.13.5"
  }
 },
 "nbformat": 4,
 "nbformat_minor": 5
}
