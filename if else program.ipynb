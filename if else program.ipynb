{
 "cells": [
  {
   "cell_type": "markdown",
   "id": "680cb24b-7559-4a24-9415-c753878918ac",
   "metadata": {},
   "source": [
    "                                        Python if else - statement Exercise"
   ]
  },
  {
   "cell_type": "markdown",
   "id": "66550d98-454e-4531-8e0e-ed22b5a87232",
   "metadata": {},
   "source": [
    "Q1. Write a program to calculate the electricity bill using only if statement?\n",
    "(accept number of unit from user) according to this criteria:\n",
    "     Unit                       Price\n",
    "   first 100 units             no charge            \n",
    "   next 100 units              Rs. 5 per unit\n",
    "   after 200 units             Rs. 10 per unit"
   ]
  },
  {
   "cell_type": "code",
   "execution_count": 25,
   "id": "bee9b84b-e8a1-48b3-adf3-82d833516979",
   "metadata": {},
   "outputs": [
    {
     "name": "stdin",
     "output_type": "stream",
     "text": [
      "Enter total units consumed: 355\n"
     ]
    },
    {
     "name": "stdout",
     "output_type": "stream",
     "text": [
      "Electricity bill is: ₹ 2050\n"
     ]
    }
   ],
   "source": [
    "# Accept number of units consumed\n",
    "units = int(input(\"Enter total units consumed:\"))\n",
    "\n",
    "# Initialize bill\n",
    "bill = 0\n",
    "# Calculate bill based on units slabs\n",
    "if units <= 100:\n",
    "    bill = 0\n",
    "if units > 100 and units <= 200:                                        \n",
    "    bill = (units - 100) * 5\n",
    "if units > 200: \n",
    "    bill = (100 * 5) + (units - 200) * 10\n",
    "    \n",
    "\n",
    "# Display the bill\n",
    "print(\"Electricity bill is: ₹\" , bill)"
   ]
  },
  {
   "cell_type": "markdown",
   "id": "452415d7-f2b7-47bc-8342-086fe1f0b003",
   "metadata": {},
   "source": [
    "Q2. Write a program to accept percentage from the user and display the grade according to the following criteria:\n",
    "\n",
    "        Marks                             Grade\n",
    "        >90                                 A\n",
    "        >80 and <=90                        B\n",
    "        >=60 and <=80                       C\n",
    "        below 60                            D\n"
   ]
  },
  {
   "cell_type": "code",
   "execution_count": 20,
   "id": "3c1378a2-34b2-410d-a40a-8309fa3630e1",
   "metadata": {},
   "outputs": [
    {
     "name": "stdin",
     "output_type": "stream",
     "text": [
      "Enter your percentage: 85\n"
     ]
    },
    {
     "name": "stdout",
     "output_type": "stream",
     "text": [
      "Your grade is: B\n"
     ]
    }
   ],
   "source": [
    "# Accept percentage from the user\n",
    "percentage = float(input(\"Enter your percentage:\"))\n",
    "\n",
    "\n",
    "if percentage > 90:\n",
    "    grade = \"A\"\n",
    "elif percentage > 80 and percentage <= 90:\n",
    "     grade = \"B\"\n",
    "elif percentage >= 60 and percentage <= 80:\n",
    "     grade = \"C\"\n",
    "else:\n",
    "    grade = \"D\"\n",
    "\n",
    "print(\"Your grade is:\", grade)\n",
    "\n",
    "\n"
   ]
  },
  {
   "cell_type": "markdown",
   "id": "eb2ae855-1d57-47fb-a587-7ccb88a7bf96",
   "metadata": {},
   "source": [
    "Q3. Accept the age of 4 people and display the youngest one?\n"
   ]
  },
  {
   "cell_type": "code",
   "execution_count": 23,
   "id": "3d1f47fc-84d4-4df6-9cfa-26b4227f4386",
   "metadata": {},
   "outputs": [
    {
     "name": "stdin",
     "output_type": "stream",
     "text": [
      "Enter age of person 1: 14\n",
      "Enter age of person 2: 26\n",
      "Enter age of person 3: 33\n",
      "Enter age of person 4: 28\n"
     ]
    },
    {
     "name": "stdout",
     "output_type": "stream",
     "text": [
      " The youngest age is : 14\n"
     ]
    }
   ],
   "source": [
    "# Accept age of 4 person\n",
    "age1 = int(input(\"Enter age of person 1:\"))\n",
    "age2 = int(input(\"Enter age of person 2:\"))\n",
    "age3 = int(input(\"Enter age of person 3:\"))\n",
    "age4 = int(input(\"Enter age of person 4:\"))\n",
    "\n",
    " \n",
    "if age1 < age2 :\n",
    "    min1 = age1\n",
    "else:\n",
    "    min1 = age2\n",
    "\n",
    "\n",
    "if age3 < age3 :\n",
    "    min2 = age3\n",
    "else: \n",
    "    min2 = age4 \n",
    "\n",
    "\n",
    "if min1 < min2 : \n",
    "    youngest = min1\n",
    "else: \n",
    "    youngest = min2\n",
    "\n",
    "print(\" The youngest age is :\", youngest)\n",
    "\n"
   ]
  },
  {
   "cell_type": "code",
   "execution_count": null,
   "id": "981a6911-bdf3-4b18-b229-6950fedce380",
   "metadata": {},
   "outputs": [],
   "source": [
    "Q4. A company decided to give bonus to employee according to following criteria:\n",
    "\n",
    "Time period                   Bonus\n",
    "1.More than 10 years            10%\n",
    "2.>=6 and <=10                  8%\n",
    "3.Less than 6 years             5%\n",
    "Ask user for their salary and years of services and print the net bonus?\n"
   ]
  },
  {
   "cell_type": "code",
   "execution_count": 4,
   "id": "4ffddb48-757d-4249-8ca4-d46d48c52846",
   "metadata": {},
   "outputs": [
    {
     "name": "stdin",
     "output_type": "stream",
     "text": [
      "Enter employee's salary:  36000\n",
      "Enter years of services:  7\n"
     ]
    },
    {
     "name": "stdout",
     "output_type": "stream",
     "text": [
      "Bonus amount is: 2880.0\n"
     ]
    }
   ],
   "source": [
    "# Accept employee's salary and years of services\n",
    "salary = float(input(\"Enter employee's salary: \"))\n",
    "years = int(input(\"Enter years of services: \"))\n",
    "\n",
    "\n",
    "if years > 10:\n",
    "    bonus = salary * 0.10\n",
    "elif years >= 6 and years <= 10:\n",
    "    bonus = salary * 0.08\n",
    "else: \n",
    "    bonus = salary * 0.05\n",
    "\n",
    "print(\"Bonus amount is:\", bonus)\n"
   ]
  },
  {
   "cell_type": "markdown",
   "id": "a51e5991-379c-41bf-87f6-f6d4aaf2ad6c",
   "metadata": {},
   "source": [
    "Q5. Accept three numbers from user and display the second largest number?"
   ]
  },
  {
   "cell_type": "code",
   "execution_count": 5,
   "id": "d968f565-d7d8-4745-bd7d-4275cc0ab6ba",
   "metadata": {},
   "outputs": [
    {
     "name": "stdin",
     "output_type": "stream",
     "text": [
      "Enter first number:  5\n",
      "Enter second number:  7\n",
      "Enter third number:  15\n"
     ]
    },
    {
     "name": "stdout",
     "output_type": "stream",
     "text": [
      "The second largest number is: 7\n"
     ]
    }
   ],
   "source": [
    "# Accept three numbers from user\n",
    "a = int(input(\"Enter first number: \"))\n",
    "b = int(input(\"Enter second number: \"))\n",
    "c = int(input(\"Enter third number: \"))\n",
    "\n",
    " \n",
    "if (a > b and a < c) or (a > c and a < b):\n",
    "    second_largest = a\n",
    "elif (b > a and b < c) or (b > c and b < a):\n",
    "    second_largest = b\n",
    "else:\n",
    "    second_largest = c\n",
    "\n",
    "\n",
    "print(\"The second largest number is:\", second_largest)"
   ]
  },
  {
   "cell_type": "markdown",
   "id": "54c56664-a121-4cc5-aa79-83538fc31fac",
   "metadata": {},
   "source": [
    "Q6. Accept the marked price from the user and calculate the Net amount as(Marked Price- Discount) to pay according to the following criteria:\n",
    "\n",
    "  Marked Price            Discount\n",
    "  >10000                  20%\n",
    "  >7000 and <=10000       15%\n",
    "  <=7000                  10%"
   ]
  },
  {
   "cell_type": "code",
   "execution_count": 6,
   "id": "c8367be4-a3ba-4491-90ae-106e3bd9cdb2",
   "metadata": {},
   "outputs": [
    {
     "name": "stdin",
     "output_type": "stream",
     "text": [
      "Enter the marked price:  5600\n"
     ]
    },
    {
     "name": "stdout",
     "output_type": "stream",
     "text": [
      "Discount amount: 560.0\n",
      "Net amount to pay: 5040.0\n"
     ]
    }
   ],
   "source": [
    "# Accept marked price from user \n",
    "marked_price = float(input(\"Enter the marked price: \"))\n",
    "\n",
    "if marked_price > 10000:\n",
    "    discount = marked_price * 0.20\n",
    "elif marked_price > 7000:\n",
    "    discount = marked_price * 0.15\n",
    "else:\n",
    "    discount = marked_price * 0.10\n",
    "\n",
    "\n",
    "net_amount = marked_price - discount\n",
    "\n",
    "print(\"Discount amount:\", discount)\n",
    "print(\"Net amount to pay:\", net_amount)"
   ]
  },
  {
   "cell_type": "markdown",
   "id": "6e794cd7-1955-4a16-b75e-a46b2de37cff",
   "metadata": {},
   "source": [
    "Q7. Accept the marks of English,Math and Science,Social Studies Subject and display the stream alloted according to following :\n",
    "    All Subjects more than 80 marks      -        Science Stream\n",
    "    English>80 and Maths,Science above 50  -      Commerce Stream\n",
    "    English>80 and Social Studies>80       -      Humanities"
   ]
  },
  {
   "cell_type": "code",
   "execution_count": 13,
   "id": "34a9e7dc-2217-4bd4-b2bf-174019ae6b84",
   "metadata": {},
   "outputs": [
    {
     "name": "stdin",
     "output_type": "stream",
     "text": [
      "Enter English marks: 87\n",
      "Enter Maths marks: 90\n",
      "Enter Science marks: 85\n",
      "Enter SST marks: 84\n"
     ]
    },
    {
     "name": "stdout",
     "output_type": "stream",
     "text": [
      "Stream Alloted: Science\n"
     ]
    }
   ],
   "source": [
    "# Accept marks from user \n",
    "english = int(input(\"Enter English marks:\"))\n",
    "maths = int(input(\"Enter Maths marks:\"))\n",
    "science = int(input(\"Enter Science marks:\"))\n",
    "sst = int(input(\"Enter SST marks:\"))\n",
    "\n",
    "\n",
    "if english > 80 and maths > 80 and science > 80 and sst > 80:\n",
    "    print(\"Stream Alloted: Science\")\n",
    "elif english > 80 and maths > 50 and science > 50:\n",
    "    print(\"Stream Alloted: Commerce\")\n",
    "elif english > 80 and sst > 80:\n",
    "    print(\"Stream Alloted: Humanities\")\n",
    "else:\n",
    "    print(\"No specific stream alloted based on given criteria. \")"
   ]
  },
  {
   "cell_type": "markdown",
   "id": "22cbb6a6-2260-4f6d-a6c5-8df71c12f796",
   "metadata": {},
   "source": [
    "Q8. Write a program to display \"Hello\" if a number entered by user is a multiple of 5,otherwise print \"Bye\"?"
   ]
  },
  {
   "cell_type": "code",
   "execution_count": 12,
   "id": "954cc6f8-9284-4069-af81-71f5995ba5fc",
   "metadata": {},
   "outputs": [
    {
     "name": "stdin",
     "output_type": "stream",
     "text": [
      "Enter a number: 10\n"
     ]
    },
    {
     "name": "stdout",
     "output_type": "stream",
     "text": [
      "HELLO\n"
     ]
    }
   ],
   "source": [
    "# Accept a number from user \n",
    "num  = int(input(\"Enter a number:\"))\n",
    "\n",
    "\n",
    "if num % 5 == 0:\n",
    "    print(\"HELLO\")\n",
    "else:\n",
    "    print(\"BYE\")\n",
    "    \n"
   ]
  },
  {
   "cell_type": "markdown",
   "id": "b5afe1e8-8ba0-44aa-83d1-58320e02a126",
   "metadata": {},
   "source": [
    "Q9. Write a program to check whether the last digit of a number (entered by user) is divisible by 3 or not?"
   ]
  },
  {
   "cell_type": "code",
   "execution_count": 1,
   "id": "25a53e93-dceb-444f-b238-a6e40d4b9e21",
   "metadata": {},
   "outputs": [
    {
     "name": "stdin",
     "output_type": "stream",
     "text": [
      "Enter a number:  243\n"
     ]
    },
    {
     "name": "stdout",
     "output_type": "stream",
     "text": [
      "The last digit is divisible by 3.\n"
     ]
    }
   ],
   "source": [
    "# Accept a number from the user\n",
    "num = int(input(\"Enter a number: \"))\n",
    "\n",
    "\n",
    "last_digit = num % 10\n",
    "\n",
    "if last_digit % 3 == 0:\n",
    "    print(\"The last digit is divisible by 3.\")\n",
    "else:\n",
    "    print(\"The last digit is not divisible by 3.\")"
   ]
  },
  {
   "cell_type": "markdown",
   "id": "73dd6baf-d1ba-4b74-a3fa-6fe05d4afca2",
   "metadata": {},
   "source": [
    "Q10. Write a program to check whether a number entered is three-digit number or not?"
   ]
  },
  {
   "cell_type": "code",
   "execution_count": 17,
   "id": "c4605a0c-a30e-4f5a-aead-207e7873799e",
   "metadata": {},
   "outputs": [
    {
     "name": "stdin",
     "output_type": "stream",
     "text": [
      "Enter a number: 345\n"
     ]
    },
    {
     "name": "stdout",
     "output_type": "stream",
     "text": [
      "The number is a three-digit number.\n"
     ]
    }
   ],
   "source": [
    "# Accept a number from the user \n",
    "num = int(input(\"Enter a number:\"))\n",
    "\n",
    "if num >= 100 and num <= 999:\n",
    "    print(\"The number is a three-digit number.\")\n",
    "elif num <= -100 and num >= -999:\n",
    "     print(\"The number is a three-digit number.\")\n",
    "else: \n",
    "     print(\"The number is NOT a three-digit number.\")"
   ]
  }
 ],
 "metadata": {
  "kernelspec": {
   "display_name": "Python 3 (ipykernel)",
   "language": "python",
   "name": "python3"
  },
  "language_info": {
   "codemirror_mode": {
    "name": "ipython",
    "version": 3
   },
   "file_extension": ".py",
   "mimetype": "text/x-python",
   "name": "python",
   "nbconvert_exporter": "python",
   "pygments_lexer": "ipython3",
   "version": "3.13.5"
  }
 },
 "nbformat": 4,
 "nbformat_minor": 5
}
