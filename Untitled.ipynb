{
 "cells": [
  {
   "cell_type": "markdown",
   "id": "9610c8b1-d754-452d-a11a-94228dec588c",
   "metadata": {},
   "source": [
    "Q1. Write a python program to print all the numbers from 1 to 10 using a for loop."
   ]
  },
  {
   "cell_type": "code",
   "execution_count": 1,
   "id": "7eddef89-5a0e-4e55-bcd2-628443a911c3",
   "metadata": {},
   "outputs": [
    {
     "name": "stdout",
     "output_type": "stream",
     "text": [
      "1\n",
      "2\n",
      "3\n",
      "4\n",
      "5\n",
      "6\n",
      "7\n",
      "8\n",
      "9\n",
      "10\n"
     ]
    }
   ],
   "source": [
    "range = ([1,2,3,4,5,6,7,8,9,10)\n",
    "for i in range : \n",
    "    print(i)"
   ]
  },
  {
   "cell_type": "markdown",
   "id": "3c79fd00-8f8d-4501-a714-85aba3afa691",
   "metadata": {},
   "source": [
    "Q2. Write a python program to find the sum of all numbers from 1 to 100 using a for loop."
   ]
  },
  {
   "cell_type": "code",
   "execution_count": 37,
   "id": "e2d005cc-4467-4a5d-8448-7af43cd0292d",
   "metadata": {},
   "outputs": [
    {
     "name": "stdout",
     "output_type": "stream",
     "text": [
      "Sum of all numbers from 1 to 100 is :  5050\n"
     ]
    }
   ],
   "source": [
    "num = 0\n",
    "for i in range(1,101):\n",
    "    num += i\n",
    "print(\"Sum of all numbers from 1 to 100 is : \" , num)\n",
    "\n",
    "    "
   ]
  },
  {
   "cell_type": "markdown",
   "id": "e4a4a399-6db5-4687-be3c-db4035b46eab",
   "metadata": {},
   "source": [
    "Q3. Write a python program to print multiplication table of a given number using a for loop."
   ]
  },
  {
   "cell_type": "code",
   "execution_count": 36,
   "id": "53904fec-d00b-4725-8dc7-d4a3c2a7c0aa",
   "metadata": {},
   "outputs": [
    {
     "name": "stdin",
     "output_type": "stream",
     "text": [
      "Enter the  table number : 7\n"
     ]
    },
    {
     "name": "stdout",
     "output_type": "stream",
     "text": [
      "7 x 1 = 7\n",
      "7 x 2 = 14\n",
      "7 x 3 = 21\n",
      "7 x 4 = 28\n",
      "7 x 5 = 35\n",
      "7 x 6 = 42\n",
      "7 x 7 = 49\n",
      "7 x 8 = 56\n",
      "7 x 9 = 63\n",
      "7 x 10 = 70\n"
     ]
    }
   ],
   "source": [
    "table_number = int(input(\"Enter the  table number :\"))\n",
    "\n",
    "\n",
    "for i in range(1,11,1):\n",
    "    print(f\"{table_number} x {i} = {table_number * i}\")"
   ]
  },
  {
   "cell_type": "markdown",
   "id": "527a7c60-b1ce-4c1a-88f1-07c2f9ab7d51",
   "metadata": {},
   "source": [
    "Q4. Write a python program to count the "
   ]
  },
  {
   "cell_type": "code",
   "execution_count": 24,
   "id": "3a1a080d-a2a2-4d42-8106-c599f1340067",
   "metadata": {},
   "outputs": [],
   "source": [
    "list1 = [1,2,3,4,5,6,7,8,9,10]"
   ]
  },
  {
   "cell_type": "code",
   "execution_count": 25,
   "id": "fb42df2f-585c-439c-9108-60d307ae4c60",
   "metadata": {},
   "outputs": [
    {
     "name": "stdout",
     "output_type": "stream",
     "text": [
      "Even numbers:  5\n",
      "Odd numbers:  5\n"
     ]
    }
   ],
   "source": [
    "even = 0\n",
    "odd = 0\n",
    "for num in list1:\n",
    "    if num % 2 == 0:\n",
    "        even += 1\n",
    "    else :\n",
    "        odd += 1\n",
    "print(\"Even numbers: \" , even)\n",
    "print(\"Odd numbers: \" , odd)"
   ]
  },
  {
   "cell_type": "code",
   "execution_count": null,
   "id": "f223c5c7-9633-4d49-92af-f7a0137f7f83",
   "metadata": {},
   "outputs": [],
   "source": []
  },
  {
   "cell_type": "code",
   "execution_count": 35,
   "id": "8338c1ed-4cd1-4f09-98a4-1740dbd3707a",
   "metadata": {},
   "outputs": [
    {
     "name": "stdin",
     "output_type": "stream",
     "text": [
      "Enter a number: 5\n"
     ]
    },
    {
     "name": "stdout",
     "output_type": "stream",
     "text": [
      "Factorial is:  120\n"
     ]
    }
   ],
   "source": [
    "\n",
    "num = int(input(\"Enter a number:\"))\n",
    "\n",
    "fact = 1\n",
    "for i in range(1 , num + 1):\n",
    "    fact *= i\n",
    "\n",
    "print(\"Factorial is: \" , fact)"
   ]
  },
  {
   "cell_type": "code",
   "execution_count": null,
   "id": "6f2aa15d-0053-42ed-a0eb-0e243d1f12fa",
   "metadata": {},
   "outputs": [],
   "source": []
  },
  {
   "cell_type": "code",
   "execution_count": 33,
   "id": "5835fb43-c822-442d-aeb9-a387c4b9a691",
   "metadata": {},
   "outputs": [
    {
     "name": "stdin",
     "output_type": "stream",
     "text": [
      "Enter a number:  5\n"
     ]
    },
    {
     "name": "stdout",
     "output_type": "stream",
     "text": [
      "It is a prime number\n"
     ]
    }
   ],
   "source": [
    "\n",
    "num = int(input(\"Enter a number: \"))\n",
    "if num <= 1:\n",
    "    print(\"Not a prime number\")\n",
    "else:\n",
    "    is_prime = True\n",
    "    for i in range(2, num):\n",
    "        if num % i == 0:\n",
    "            is_prime = False\n",
    "            break\n",
    "    if is_prime:\n",
    "        print(\"It is a prime number\")\n",
    "    else:\n",
    "        print(\"Not a prime number\")\n",
    "\n",
    "            \n"
   ]
  },
  {
   "cell_type": "code",
   "execution_count": null,
   "id": "e23dec61-676b-4bfa-b25a-c052b3f8170c",
   "metadata": {},
   "outputs": [],
   "source": []
  },
  {
   "cell_type": "code",
   "execution_count": 42,
   "id": "80c60cf8-2fe9-4069-b8b0-59cbe30182fe",
   "metadata": {},
   "outputs": [
    {
     "name": "stdout",
     "output_type": "stream",
     "text": [
      " The largest number in the list is: 98\n"
     ]
    }
   ],
   "source": [
    "# program to find the largest number in a list\n",
    "numbers = [23,56,74,32,65,45,78,98,44]\n",
    "\n",
    "largest = numbers[0]\n",
    "\n",
    "for num in numbers:\n",
    "    if num > largest:\n",
    "        largest = num\n",
    "\n",
    "print(\" The largest number in the list is:\", largest)\n"
   ]
  },
  {
   "cell_type": "code",
   "execution_count": null,
   "id": "f32c27d0-0cb2-4db0-acf9-b7d58cd0a91b",
   "metadata": {},
   "outputs": [],
   "source": []
  },
  {
   "cell_type": "code",
   "execution_count": 43,
   "id": "12efc405-c6dd-46d9-87c8-d43324febf13",
   "metadata": {},
   "outputs": [
    {
     "name": "stdin",
     "output_type": "stream",
     "text": [
      "Enter the string: Python\n"
     ]
    },
    {
     "name": "stdout",
     "output_type": "stream",
     "text": [
      "Reversed string is: nohtyP \n"
     ]
    }
   ],
   "source": [
    "text = input(\"Enter the string:\")\n",
    "\n",
    "reversed_text = \" \"\n",
    "\n",
    "for char in text:\n",
    "    reversed_text = char + reversed_text\n",
    "\n",
    "print(\"Reversed string is:\", reversed_text)\n",
    "\n",
    "    "
   ]
  },
  {
   "cell_type": "code",
   "execution_count": null,
   "id": "2772702f-1a4c-424b-ba96-b879a85ada97",
   "metadata": {},
   "outputs": [],
   "source": []
  },
  {
   "cell_type": "code",
   "execution_count": 45,
   "id": "aa007075-0d5e-467e-a66c-8ef4d4f57fa8",
   "metadata": {},
   "outputs": [
    {
     "name": "stdout",
     "output_type": "stream",
     "text": [
      "Common_elements is: [4, 5]\n"
     ]
    }
   ],
   "source": [
    "list1 = [3,4,5,6]\n",
    "list2 = [4,5,9,2]\n",
    "\n",
    "common_elements = []\n",
    "\n",
    "for i in list1:\n",
    "    if i in list2 and i not in common_elements:\n",
    "        common_elements.append(i)\n",
    "\n",
    "print(\"Common_elements is:\", common_elements)\n",
    "                            "
   ]
  },
  {
   "cell_type": "code",
   "execution_count": null,
   "id": "43a9869c-3847-4d99-a886-fa60f2074c0e",
   "metadata": {},
   "outputs": [],
   "source": []
  },
  {
   "cell_type": "code",
   "execution_count": 46,
   "id": "8b4f8a6a-3cd2-4dff-92b4-db9e94368217",
   "metadata": {},
   "outputs": [
    {
     "name": "stdin",
     "output_type": "stream",
     "text": [
      "Enter the maximum number: 6\n"
     ]
    },
    {
     "name": "stdout",
     "output_type": "stream",
     "text": [
      "Fibonacci sequence up to  6  :\n",
      "0 1 1 2 3 5 "
     ]
    }
   ],
   "source": [
    "max_num = int(input(\"Enter the maximum number:\"))\n",
    "a,b = 0,1\n",
    "\n",
    "print(\"Fibonacci sequence up to \" , max_num, \" :\")\n",
    "\n",
    "for _ in range(max_num):\n",
    "    if a > max_num:\n",
    "        break\n",
    "    print(a, end = \" \")\n",
    "    a , b = b, a + b"
   ]
  },
  {
   "cell_type": "code",
   "execution_count": null,
   "id": "17196412-909e-4b8e-a56a-4936da465c01",
   "metadata": {},
   "outputs": [],
   "source": []
  }
 ],
 "metadata": {
  "kernelspec": {
   "display_name": "Python [conda env:base] *",
   "language": "python",
   "name": "conda-base-py"
  },
  "language_info": {
   "codemirror_mode": {
    "name": "ipython",
    "version": 3
   },
   "file_extension": ".py",
   "mimetype": "text/x-python",
   "name": "python",
   "nbconvert_exporter": "python",
   "pygments_lexer": "ipython3",
   "version": "3.13.5"
  }
 },
 "nbformat": 4,
 "nbformat_minor": 5
}
