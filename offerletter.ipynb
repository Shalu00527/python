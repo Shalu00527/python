{
 "cells": [
  {
   "cell_type": "code",
   "execution_count": 4,
   "id": "103b6a13",
   "metadata": {},
   "outputs": [
    {
     "name": "stdin",
     "output_type": "stream",
     "text": [
      "Enter the candidate's full name :  Rohit Kumar\n",
      "Enter the candidate's  designation :  Python Developer\n",
      "Enter the candidate's Address :  A52 Sector 16 Noida UP\n",
      "Enter the CTC offered :  3456789\n",
      "Enter the candidate email :  rohitkumar1234@gmail.com\n",
      "Enter the date of joining :  1 Aug 2025\n",
      "Enter the Respective person (e.g., HR Manager) :  Sunil Kumar\n"
     ]
    }
   ],
   "source": [
    "\n",
    "\n",
    "\n",
    "full_name = input(\"Enter the candidate's full name : \")\n",
    "designation = input(\"Enter the candidate's  designation : \")\n",
    "address= input(\"Enter the candidate's Address : \")\n",
    "ctc = input(\"Enter the CTC offered : \")\n",
    "email = input(\"Enter the candidate email : \")\n",
    "date_of_joining = input(\"Enter the date of joining : \")\n",
    "respective_person = input(\"Enter the Respective person (e.g., HR Manager) : \")\n",
    "\n",
    "\n",
    "offer_letter_content = f\"\"\"\n",
    "\n",
    "\n",
    "Dear{full_name},\n",
    "\n",
    "Subject: Offer of employment for the position of {designation}\n",
    "\n",
    "We are delighted to extend this formal offer of employment to you for the position of {designation} at our organization. Based on your qualifications and the skills you demonstrated during the recruitment process, we are confident that you will be a valuable addition to our team.\n",
    "\n",
    "As discussed, your expected date of joining is {date_of_joining}. Your total compensation package will be {ctc} which includes all salary components as per the company’s policy. Further details regarding your compensation will be provided in your employment contract.\n",
    "\n",
    "We expect you to bring your best efforts to help the company achieve its goals, and we are committed to supporting your professional growth during your time with us.\n",
    "\n",
    "Please confirm your acceptance of this offer by sending an email to {email}at your earliest convenience. Should you have any queries regarding this offer, feel free to reach out to us.\n",
    "\n",
    "We look forward to having you onboard and are excited about the great things we can accomplish together.\n",
    "\n",
    "Sincerely,\n",
    "{respective_person}\n",
    "HR Manager\n",
    "\"\"\"\n"
   ]
  },
  {
   "cell_type": "code",
   "execution_count": null,
   "id": "11c94d61-58ed-428b-920a-c099c943001b",
   "metadata": {},
   "outputs": [],
   "source": []
  }
 ],
 "metadata": {
  "kernelspec": {
   "display_name": "Python 3 (ipykernel)",
   "language": "python",
   "name": "python3"
  },
  "language_info": {
   "codemirror_mode": {
    "name": "ipython",
    "version": 3
   },
   "file_extension": ".py",
   "mimetype": "text/x-python",
   "name": "python",
   "nbconvert_exporter": "python",
   "pygments_lexer": "ipython3",
   "version": "3.13.5"
  }
 },
 "nbformat": 4,
 "nbformat_minor": 5
}
